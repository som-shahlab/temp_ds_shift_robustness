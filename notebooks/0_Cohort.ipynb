{
 "cells": [
  {
   "cell_type": "code",
   "execution_count": 1,
   "id": "d290dbcc-4d58-4990-bad8-edc9ec400eb4",
   "metadata": {},
   "outputs": [],
   "source": [
    "import os\n",
    "import joblib\n",
    "\n",
    "import matplotlib.pyplot as plt\n",
    "import seaborn as sns\n",
    "\n",
    "import pandas as pd\n",
    "import numpy as np"
   ]
  },
  {
   "cell_type": "code",
   "execution_count": 2,
   "id": "ecd01a62-f425-48ec-b2c4-ad020e3a3753",
   "metadata": {},
   "outputs": [],
   "source": [
    "def read_file(filename, columns=None, **kwargs):\n",
    "    print(filename)\n",
    "    load_extension = os.path.splitext(filename)[-1]\n",
    "    if load_extension == \".parquet\":\n",
    "        return pd.read_parquet(filename, columns=columns,**kwargs)\n",
    "    elif load_extension == \".csv\":\n",
    "        return pd.read_csv(filename, usecols=columns, **kwargs)"
   ]
  },
  {
   "cell_type": "code",
   "execution_count": 3,
   "id": "cb0a259e-8c72-491d-ac35-bdb889c560df",
   "metadata": {},
   "outputs": [
    {
     "name": "stdout",
     "output_type": "stream",
     "text": [
      "/local-scratch/nigam/projects/lguo/temp_ds_shift_robustness/cohorts/admissions/cohort//cohort_split.parquet\n"
     ]
    }
   ],
   "source": [
    "fpath = '/local-scratch/nigam/projects/lguo/temp_ds_shift_robustness/cohorts/admissions/cohort/'\n",
    "df = read_file(f\"{fpath}/cohort_split.parquet\",engine='pyarrow')\n",
    "df['admission_year']=df['admit_date'].dt.year\n",
    "df = df.query(\"admission_year>2008\")"
   ]
  },
  {
   "cell_type": "code",
   "execution_count": 4,
   "id": "9a9481db-7315-4371-9bc9-386d2714f009",
   "metadata": {},
   "outputs": [
    {
     "name": "stdout",
     "output_type": "stream",
     "text": [
      "211230 211230\n"
     ]
    }
   ],
   "source": [
    "# Confirm that each person_id is unique\n",
    "print(\n",
    "    df.shape[0],\n",
    "    df['person_id'].nunique(),\n",
    ")"
   ]
  },
  {
   "cell_type": "code",
   "execution_count": 5,
   "id": "eb5fee0c-6768-4eb6-8616-16b61d8dd472",
   "metadata": {},
   "outputs": [],
   "source": [
    "df['gender_female'] = np.where(df['gender_concept_name']=='FEMALE',1,0)\n",
    "df['gender_male'] = np.where(df['gender_concept_name']=='MALE',1,0)\n",
    "df['race_white'] = np.where(df['race_eth']=='White',1,0)\n",
    "df['race_other'] = np.where(df['race_eth']=='White',0,1)"
   ]
  },
  {
   "cell_type": "code",
   "execution_count": 6,
   "id": "28c5cf16-4b0c-4a0f-b8bc-ebd4a7b0f89d",
   "metadata": {},
   "outputs": [
    {
     "data": {
      "text/html": [
       "<div>\n",
       "<style scoped>\n",
       "    .dataframe tbody tr th:only-of-type {\n",
       "        vertical-align: middle;\n",
       "    }\n",
       "\n",
       "    .dataframe tbody tr th {\n",
       "        vertical-align: top;\n",
       "    }\n",
       "\n",
       "    .dataframe thead th {\n",
       "        text-align: right;\n",
       "    }\n",
       "</style>\n",
       "<table border=\"1\" class=\"dataframe\">\n",
       "  <thead>\n",
       "    <tr style=\"text-align: right;\">\n",
       "      <th>admission_year</th>\n",
       "      <th>2009</th>\n",
       "      <th>2010</th>\n",
       "      <th>2011</th>\n",
       "      <th>2012</th>\n",
       "      <th>2013</th>\n",
       "      <th>2014</th>\n",
       "      <th>2015</th>\n",
       "      <th>2016</th>\n",
       "      <th>2017</th>\n",
       "      <th>2018</th>\n",
       "      <th>2019</th>\n",
       "      <th>2020</th>\n",
       "      <th>2021</th>\n",
       "    </tr>\n",
       "    <tr>\n",
       "      <th>variable</th>\n",
       "      <th></th>\n",
       "      <th></th>\n",
       "      <th></th>\n",
       "      <th></th>\n",
       "      <th></th>\n",
       "      <th></th>\n",
       "      <th></th>\n",
       "      <th></th>\n",
       "      <th></th>\n",
       "      <th></th>\n",
       "      <th></th>\n",
       "      <th></th>\n",
       "      <th></th>\n",
       "    </tr>\n",
       "  </thead>\n",
       "  <tbody>\n",
       "    <tr>\n",
       "      <th>subject_count</th>\n",
       "      <td>12727</td>\n",
       "      <td>12930</td>\n",
       "      <td>13104</td>\n",
       "      <td>13136</td>\n",
       "      <td>13117</td>\n",
       "      <td>15235</td>\n",
       "      <td>17241</td>\n",
       "      <td>16980</td>\n",
       "      <td>17198</td>\n",
       "      <td>21187</td>\n",
       "      <td>22514</td>\n",
       "      <td>22352</td>\n",
       "      <td>13509</td>\n",
       "    </tr>\n",
       "    <tr>\n",
       "      <th>Age</th>\n",
       "      <td>57±18</td>\n",
       "      <td>57±18</td>\n",
       "      <td>57±18</td>\n",
       "      <td>57±18</td>\n",
       "      <td>57±18</td>\n",
       "      <td>53±19</td>\n",
       "      <td>52±19</td>\n",
       "      <td>52±19</td>\n",
       "      <td>53±19</td>\n",
       "      <td>53±20</td>\n",
       "      <td>53±20</td>\n",
       "      <td>53±20</td>\n",
       "      <td>54±20</td>\n",
       "    </tr>\n",
       "    <tr>\n",
       "      <th>Gender (Female)</th>\n",
       "      <td>6572 (52%)</td>\n",
       "      <td>6579 (51%)</td>\n",
       "      <td>6767 (52%)</td>\n",
       "      <td>6576 (50%)</td>\n",
       "      <td>6668 (51%)</td>\n",
       "      <td>8820 (58%)</td>\n",
       "      <td>10483 (61%)</td>\n",
       "      <td>10310 (61%)</td>\n",
       "      <td>10269 (60%)</td>\n",
       "      <td>12874 (61%)</td>\n",
       "      <td>13556 (60%)</td>\n",
       "      <td>13234 (59%)</td>\n",
       "      <td>8010 (59%)</td>\n",
       "    </tr>\n",
       "    <tr>\n",
       "      <th>Gender (Male)</th>\n",
       "      <td>6154 (48%)</td>\n",
       "      <td>6351 (49%)</td>\n",
       "      <td>6337 (48%)</td>\n",
       "      <td>6559 (50%)</td>\n",
       "      <td>6448 (49%)</td>\n",
       "      <td>6414 (42%)</td>\n",
       "      <td>6757 (39%)</td>\n",
       "      <td>6670 (39%)</td>\n",
       "      <td>6929 (40%)</td>\n",
       "      <td>8313 (39%)</td>\n",
       "      <td>8956 (40%)</td>\n",
       "      <td>9116 (41%)</td>\n",
       "      <td>5496 (41%)</td>\n",
       "    </tr>\n",
       "    <tr>\n",
       "      <th>Race (White)</th>\n",
       "      <td>7054 (55%)</td>\n",
       "      <td>8106 (63%)</td>\n",
       "      <td>8091 (62%)</td>\n",
       "      <td>7848 (60%)</td>\n",
       "      <td>7585 (58%)</td>\n",
       "      <td>8092 (53%)</td>\n",
       "      <td>8620 (50%)</td>\n",
       "      <td>8174 (48%)</td>\n",
       "      <td>8328 (48%)</td>\n",
       "      <td>10164 (48%)</td>\n",
       "      <td>10866 (48%)</td>\n",
       "      <td>10101 (45%)</td>\n",
       "      <td>5908 (44%)</td>\n",
       "    </tr>\n",
       "    <tr>\n",
       "      <th>Race (Other)</th>\n",
       "      <td>5673 (45%)</td>\n",
       "      <td>4824 (37%)</td>\n",
       "      <td>5013 (38%)</td>\n",
       "      <td>5288 (40%)</td>\n",
       "      <td>5532 (42%)</td>\n",
       "      <td>7143 (47%)</td>\n",
       "      <td>8621 (50%)</td>\n",
       "      <td>8806 (52%)</td>\n",
       "      <td>8870 (52%)</td>\n",
       "      <td>11023 (52%)</td>\n",
       "      <td>11648 (52%)</td>\n",
       "      <td>12251 (55%)</td>\n",
       "      <td>7601 (56%)</td>\n",
       "    </tr>\n",
       "    <tr>\n",
       "      <th>In-Hospital Mortality</th>\n",
       "      <td>267 (2%)</td>\n",
       "      <td>317 (2%)</td>\n",
       "      <td>337 (3%)</td>\n",
       "      <td>337 (3%)</td>\n",
       "      <td>340 (3%)</td>\n",
       "      <td>321 (2%)</td>\n",
       "      <td>345 (2%)</td>\n",
       "      <td>345 (2%)</td>\n",
       "      <td>335 (2%)</td>\n",
       "      <td>402 (2%)</td>\n",
       "      <td>379 (2%)</td>\n",
       "      <td>459 (2%)</td>\n",
       "      <td>249 (2%)</td>\n",
       "    </tr>\n",
       "    <tr>\n",
       "      <th>LOS &gt;7 Days</th>\n",
       "      <td>2680 (21%)</td>\n",
       "      <td>2718 (21%)</td>\n",
       "      <td>2720 (21%)</td>\n",
       "      <td>2741 (21%)</td>\n",
       "      <td>2703 (21%)</td>\n",
       "      <td>2940 (19%)</td>\n",
       "      <td>3065 (18%)</td>\n",
       "      <td>3365 (20%)</td>\n",
       "      <td>3264 (19%)</td>\n",
       "      <td>3767 (18%)</td>\n",
       "      <td>4078 (18%)</td>\n",
       "      <td>4300 (19%)</td>\n",
       "      <td>2709 (20%)</td>\n",
       "    </tr>\n",
       "    <tr>\n",
       "      <th>Readmission 30 Days</th>\n",
       "      <td>710 (6%)</td>\n",
       "      <td>825 (7%)</td>\n",
       "      <td>769 (6%)</td>\n",
       "      <td>739 (6%)</td>\n",
       "      <td>728 (6%)</td>\n",
       "      <td>846 (6%)</td>\n",
       "      <td>918 (5%)</td>\n",
       "      <td>861 (5%)</td>\n",
       "      <td>855 (5%)</td>\n",
       "      <td>1225 (6%)</td>\n",
       "      <td>1358 (6%)</td>\n",
       "      <td>1261 (6%)</td>\n",
       "      <td>713 (5%)</td>\n",
       "    </tr>\n",
       "    <tr>\n",
       "      <th>ICU Admission</th>\n",
       "      <td>336 (3%)</td>\n",
       "      <td>917 (7%)</td>\n",
       "      <td>902 (7%)</td>\n",
       "      <td>927 (7%)</td>\n",
       "      <td>1011 (8%)</td>\n",
       "      <td>1038 (7%)</td>\n",
       "      <td>1009 (6%)</td>\n",
       "      <td>1131 (7%)</td>\n",
       "      <td>1037 (6%)</td>\n",
       "      <td>1536 (7%)</td>\n",
       "      <td>1760 (8%)</td>\n",
       "      <td>3091 (14%)</td>\n",
       "      <td>1536 (11%)</td>\n",
       "    </tr>\n",
       "  </tbody>\n",
       "</table>\n",
       "</div>"
      ],
      "text/plain": [
       "admission_year               2009        2010        2011        2012  \\\n",
       "variable                                                                \n",
       "subject_count               12727       12930       13104       13136   \n",
       "Age                         57±18       57±18       57±18       57±18   \n",
       "Gender (Female)        6572 (52%)  6579 (51%)  6767 (52%)  6576 (50%)   \n",
       "Gender (Male)          6154 (48%)  6351 (49%)  6337 (48%)  6559 (50%)   \n",
       "Race (White)           7054 (55%)  8106 (63%)  8091 (62%)  7848 (60%)   \n",
       "Race (Other)           5673 (45%)  4824 (37%)  5013 (38%)  5288 (40%)   \n",
       "In-Hospital Mortality    267 (2%)    317 (2%)    337 (3%)    337 (3%)   \n",
       "LOS >7 Days            2680 (21%)  2718 (21%)  2720 (21%)  2741 (21%)   \n",
       "Readmission 30 Days      710 (6%)    825 (7%)    769 (6%)    739 (6%)   \n",
       "ICU Admission            336 (3%)    917 (7%)    902 (7%)    927 (7%)   \n",
       "\n",
       "admission_year               2013        2014         2015         2016  \\\n",
       "variable                                                                  \n",
       "subject_count               13117       15235        17241        16980   \n",
       "Age                         57±18       53±19        52±19        52±19   \n",
       "Gender (Female)        6668 (51%)  8820 (58%)  10483 (61%)  10310 (61%)   \n",
       "Gender (Male)          6448 (49%)  6414 (42%)   6757 (39%)   6670 (39%)   \n",
       "Race (White)           7585 (58%)  8092 (53%)   8620 (50%)   8174 (48%)   \n",
       "Race (Other)           5532 (42%)  7143 (47%)   8621 (50%)   8806 (52%)   \n",
       "In-Hospital Mortality    340 (3%)    321 (2%)     345 (2%)     345 (2%)   \n",
       "LOS >7 Days            2703 (21%)  2940 (19%)   3065 (18%)   3365 (20%)   \n",
       "Readmission 30 Days      728 (6%)    846 (6%)     918 (5%)     861 (5%)   \n",
       "ICU Admission           1011 (8%)   1038 (7%)    1009 (6%)    1131 (7%)   \n",
       "\n",
       "admission_year                2017         2018         2019         2020  \\\n",
       "variable                                                                    \n",
       "subject_count                17198        21187        22514        22352   \n",
       "Age                          53±19        53±20        53±20        53±20   \n",
       "Gender (Female)        10269 (60%)  12874 (61%)  13556 (60%)  13234 (59%)   \n",
       "Gender (Male)           6929 (40%)   8313 (39%)   8956 (40%)   9116 (41%)   \n",
       "Race (White)            8328 (48%)  10164 (48%)  10866 (48%)  10101 (45%)   \n",
       "Race (Other)            8870 (52%)  11023 (52%)  11648 (52%)  12251 (55%)   \n",
       "In-Hospital Mortality     335 (2%)     402 (2%)     379 (2%)     459 (2%)   \n",
       "LOS >7 Days             3264 (19%)   3767 (18%)   4078 (18%)   4300 (19%)   \n",
       "Readmission 30 Days       855 (5%)    1225 (6%)    1358 (6%)    1261 (6%)   \n",
       "ICU Admission            1037 (6%)    1536 (7%)    1760 (8%)   3091 (14%)   \n",
       "\n",
       "admission_year               2021  \n",
       "variable                           \n",
       "subject_count               13509  \n",
       "Age                         54±20  \n",
       "Gender (Female)        8010 (59%)  \n",
       "Gender (Male)          5496 (41%)  \n",
       "Race (White)           5908 (44%)  \n",
       "Race (Other)           7601 (56%)  \n",
       "In-Hospital Mortality    249 (2%)  \n",
       "LOS >7 Days            2709 (20%)  \n",
       "Readmission 30 Days      713 (5%)  \n",
       "ICU Admission          1536 (11%)  "
      ]
     },
     "metadata": {},
     "output_type": "display_data"
    }
   ],
   "source": [
    "for var in ['admission_year']:\n",
    "    df_agg = df.groupby(var).agg(\n",
    "        subject_count = ('person_id', 'count'),\n",
    "        age_mean = ('age_in_years','mean'),\n",
    "        age_std = ('age_in_years','std'),\n",
    "        gender_F = ('gender_female','sum'),\n",
    "        gender_M = ('gender_male','sum'),\n",
    "        race_W = ('race_white','sum'),\n",
    "        race_O = ('race_other','sum'),\n",
    "        mortality = ('hospital_mortality','sum'),\n",
    "        los_7 = ('LOS_7','sum'),\n",
    "        readmission_30 = ('readmission_30','sum'),\n",
    "        icu = ('icu_admission','sum'),\n",
    "        subject_count_readmission = ('readmission_30','count'),\n",
    "    ).reset_index().round(2)\n",
    "\n",
    "    df_agg['gender_F_perc'] = df_agg['gender_F']/df_agg['subject_count']*100\n",
    "    df_agg['gender_M_perc'] = df_agg['gender_M']/df_agg['subject_count']*100\n",
    "    df_agg['race_W_perc'] = df_agg['race_W']/df_agg['subject_count']*100\n",
    "    df_agg['race_O_perc'] = df_agg['race_O']/df_agg['subject_count']*100\n",
    "    df_agg['mortality_perc'] = df_agg['mortality']/df_agg['subject_count']*100\n",
    "    df_agg['los_7_perc'] = df_agg['los_7']/df_agg['subject_count']*100\n",
    "    df_agg['readmission_30_perc'] = df_agg['readmission_30']/df_agg['subject_count_readmission']*100\n",
    "    df_agg['icu_perc'] = df_agg['icu']/df_agg['subject_count']*100\n",
    "\n",
    "    df_agg['Age'] = df_agg['age_mean'].apply('{:.0f}'.format)+'±'+df_agg['age_std'].apply('{:.0f}'.format)+''\n",
    "\n",
    "    df_agg['Gender (Female)'] = df_agg['gender_F'].apply(\n",
    "        '{:.0f}'.format\n",
    "    ) +' ('+df_agg['gender_F_perc'].apply('{:.0f}'.format)+'%)'\n",
    "\n",
    "    df_agg['Gender (Male)'] = df_agg['gender_M'].apply(\n",
    "        '{:.0f}'.format\n",
    "    ) +' ('+df_agg['gender_M_perc'].apply('{:.0f}'.format)+'%)'\n",
    "\n",
    "    df_agg['Race (White)'] = df_agg['race_W'].apply(\n",
    "        '{:.0f}'.format\n",
    "    ) +' ('+df_agg['race_W_perc'].apply('{:.0f}'.format)+'%)'\n",
    "\n",
    "    df_agg['Race (Other)'] = df_agg['race_O'].apply(\n",
    "        '{:.0f}'.format\n",
    "    ) +' ('+df_agg['race_O_perc'].apply('{:.0f}'.format)+'%)'\n",
    "\n",
    "    df_agg['In-Hospital Mortality'] = df_agg['mortality'].apply(\n",
    "        '{:.0f}'.format\n",
    "    ) +' ('+df_agg['mortality_perc'].apply('{:.0f}'.format)+'%)'\n",
    "    \n",
    "    df_agg['LOS >7 Days'] = df_agg['los_7'].apply(\n",
    "        '{:.0f}'.format\n",
    "    ) +' ('+df_agg['los_7_perc'].apply('{:.0f}'.format)+'%)'\n",
    "\n",
    "    df_agg['Readmission 30 Days'] = df_agg['readmission_30'].apply(\n",
    "        '{:.0f}'.format\n",
    "    ) +' ('+df_agg['readmission_30_perc'].apply('{:.0f}'.format)+'%)'\n",
    "    \n",
    "    df_agg['ICU Admission'] = df_agg['icu'].apply(\n",
    "        '{:.0f}'.format\n",
    "    ) +' ('+df_agg['icu_perc'].apply('{:.0f}'.format)+'%)'\n",
    "\n",
    "    df_agg = df_agg[['subject_count',var,'Age','Gender (Female)','Gender (Male)','Race (White)','Race (Other)','In-Hospital Mortality','LOS >7 Days','Readmission 30 Days','ICU Admission']]\n",
    "    df_agg = df_agg.melt(id_vars=var)\n",
    "    df_agg = df_agg.pivot(columns = var, values = 'value', index = 'variable')\n",
    "    df_agg = df_agg.reindex(labels = [\n",
    "        'subject_count',\n",
    "        'Age',\n",
    "        'Gender (Female)',\n",
    "        'Gender (Male)',\n",
    "        'Race (White)', \n",
    "        'Race (Other)',\n",
    "        'In-Hospital Mortality',\n",
    "        'LOS >7 Days',\n",
    "        'Readmission 30 Days',\n",
    "        'ICU Admission'\n",
    "    ])\n",
    "    display(df_agg)"
   ]
  },
  {
   "cell_type": "markdown",
   "id": "aa9f22b6-1ce7-4f15-a966-02381c1658bc",
   "metadata": {},
   "source": [
    "##### Proportion of admit_date and discharge_date that are at midnight"
   ]
  },
  {
   "cell_type": "code",
   "execution_count": 7,
   "id": "90b9f93c-aad5-4745-9868-4ef6c8499732",
   "metadata": {},
   "outputs": [
    {
     "name": "stdout",
     "output_type": "stream",
     "text": [
      "admit_time at midnight [%]: 0.0473\n",
      "discharge_time at midnight [%]: 0.0473\n"
     ]
    }
   ],
   "source": [
    "admit_diff = (df.admit_date - pd.to_datetime(df.admit_date.dt.date)) / np.timedelta64(1,'h')\n",
    "discharge_diff = (df.discharge_date - pd.to_datetime(df.discharge_date.dt.date)) / np.timedelta64(1,'h')\n",
    "print(\n",
    "    f\"admit_time at midnight [%]: {round(np.mean(admit_diff==0)*100,4)}\\n\"\n",
    "    f\"discharge_time at midnight [%]: {round(np.mean(admit_diff==0)*100,4)}\"\n",
    ")"
   ]
  },
  {
   "cell_type": "markdown",
   "id": "c3a7abd5-02e6-4104-9228-7ba0a05092f6",
   "metadata": {},
   "source": [
    "##### LOS distribution in hours"
   ]
  },
  {
   "cell_type": "code",
   "execution_count": 8,
   "id": "5b9e350d-bb46-452d-87e9-3e95ae375c82",
   "metadata": {},
   "outputs": [],
   "source": [
    "los = round((df.discharge_date - df.admit_date) / np.timedelta64(1,'m'))"
   ]
  },
  {
   "cell_type": "code",
   "execution_count": 9,
   "id": "2a8f22bd-e04d-4a85-996a-82ba65a4a79d",
   "metadata": {},
   "outputs": [
    {
     "data": {
      "text/plain": [
       "(0.0, 10000.0)"
      ]
     },
     "execution_count": 9,
     "metadata": {},
     "output_type": "execute_result"
    },
    {
     "data": {
      "image/png": "[encoded data removed]",
      "text/plain": [
       "<Figure size 432x288 with 1 Axes>"
      ]
     },
     "metadata": {
      "needs_background": "light"
     },
     "output_type": "display_data"
    }
   ],
   "source": [
    "ax = sns.histplot(los,kde=False,bins=1000)\n",
    "ax.set_xlim([0,10000])"
   ]
  },
  {
   "cell_type": "code",
   "execution_count": 10,
   "id": "b356ffbd-14ab-4f44-8953-aa23dc0c8f5b",
   "metadata": {},
   "outputs": [
    {
     "data": {
      "text/plain": [
       "7.0"
      ]
     },
     "execution_count": 10,
     "metadata": {},
     "output_type": "execute_result"
    }
   ],
   "source": [
    "min(los)"
   ]
  },
  {
   "cell_type": "code",
   "execution_count": 11,
   "id": "c667a0bc-8a48-4b14-beec-c91f718183ef",
   "metadata": {},
   "outputs": [
    {
     "data": {
      "text/plain": [
       "22"
      ]
     },
     "execution_count": 11,
     "metadata": {},
     "output_type": "execute_result"
    }
   ],
   "source": [
    "len(np.where(los<60)[0])"
   ]
  },
  {
   "cell_type": "code",
   "execution_count": null,
   "id": "4489b409-3247-4e69-a7ff-1805e407ddf7",
   "metadata": {},
   "outputs": [],
   "source": []
  }
 ],
 "metadata": {
  "kernelspec": {
   "display_name": "Python 3 (ipykernel)",
   "language": "python",
   "name": "python3"
  },
  "language_info": {
   "codemirror_mode": {
    "name": "ipython",
    "version": 3
   },
   "file_extension": ".py",
   "mimetype": "text/x-python",
   "name": "python",
   "nbconvert_exporter": "python",
   "pygments_lexer": "ipython3",
   "version": "3.8.5"
  }
 },
 "nbformat": 4,
 "nbformat_minor": 5
}
