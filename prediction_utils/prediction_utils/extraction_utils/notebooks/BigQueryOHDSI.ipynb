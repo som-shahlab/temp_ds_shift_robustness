{
 "cells": [
  {
   "cell_type": "code",
   "execution_count": 1,
   "metadata": {},
   "outputs": [],
   "source": [
    "library(DatabaseConnector)\n",
    "library(SqlRender)"
   ]
  },
  {
   "cell_type": "code",
   "execution_count": 2,
   "metadata": {},
   "outputs": [],
   "source": [
    "args = c(\n",
    "    project_id=\"som-nero-phi-nigam-starr\",\n",
    "    email=\"spfohl@stanford.edu\",\n",
    "    credentials_path=\"/home/spfohl/.config/gcloud/application_default_credentials.json\",\n",
    "    path_to_driver=\"/share/sw/open/simba/SimbaJDBCDriverforGoogleBigQuery42_1.2.1.1001\",\n",
    "#     schema='starr_omop_cdm5_deid_20200404',\n",
    "    schema='starr_omop_cdm5_deid_20200404',\n",
    "    rs_schema='plp_cohort_tables',\n",
    "    cohort='admission_rollup_20200404_with_labels_sampled'\n",
    ")"
   ]
  },
  {
   "cell_type": "code",
   "execution_count": 4,
   "metadata": {},
   "outputs": [],
   "source": [
    "# Sys.setenv(GOOGLE_APPLICATION_CREDENTIALS=\"/home/spfohl/.config/gcloud/application_default_credentials.json\")\n",
    "Sys.setenv(GOOGLE_APPLICATION_CREDENTIALS=args['credentials_path'])"
   ]
  },
  {
   "cell_type": "code",
   "execution_count": 18,
   "metadata": {},
   "outputs": [],
   "source": [
    "connection_string=sprintf(\n",
    "    \"jdbc:bigquery://https://www.googleapis.com/bigquery/v2:443;ProjectId=%s;OAuthType=3;OAuthServiceAcctEmail=%s;OAuthPvtKeyPath=%s;Timeout=1000000;DefaultDataset=%s\",\n",
    "    args['project_id'],\n",
    "    args['email'],\n",
    "    args['credentials_path'],\n",
    "    args['rs_schema']\n",
    ")"
   ]
  },
  {
   "cell_type": "code",
   "execution_count": 19,
   "metadata": {},
   "outputs": [],
   "source": [
    "connection_string=sprintf(\n",
    "    \"jdbc:bigquery://https://www.googleapis.com/bigquery/v2:443;ProjectId=%s;OAuthType=0;OAuthServiceAcctEmail=%s;OAuthPvtKeyPath=%s;Timeout=1000000\",\n",
    "    args['project_id'],\n",
    "    args['email'],\n",
    "    args['credentials_path']\n",
    "#     args['rs_schema']\n",
    ")"
   ]
  },
  {
   "cell_type": "code",
   "execution_count": 22,
   "metadata": {},
   "outputs": [
    {
     "data": {
      "text/html": [
       "'jdbc:bigquery://https://www.googleapis.com/bigquery/v2:443;ProjectId=som-nero-phi-nigam-starr;OAuthType=0;OAuthServiceAcctEmail=spfohl@stanford.edu;OAuthPvtKeyPath=/home/spfohl/.config/gcloud/application_default_credentials.json;Timeout=1000000'"
      ],
      "text/latex": [
       "'jdbc:bigquery://https://www.googleapis.com/bigquery/v2:443;ProjectId=som-nero-phi-nigam-starr;OAuthType=0;OAuthServiceAcctEmail=spfohl@stanford.edu;OAuthPvtKeyPath=/home/spfohl/.config/gcloud/application\\_default\\_credentials.json;Timeout=1000000'"
      ],
      "text/markdown": [
       "'jdbc:bigquery://https://www.googleapis.com/bigquery/v2:443;ProjectId=som-nero-phi-nigam-starr;OAuthType=0;OAuthServiceAcctEmail=spfohl@stanford.edu;OAuthPvtKeyPath=/home/spfohl/.config/gcloud/application_default_credentials.json;Timeout=1000000'"
      ],
      "text/plain": [
       "[1] \"jdbc:bigquery://https://www.googleapis.com/bigquery/v2:443;ProjectId=som-nero-phi-nigam-starr;OAuthType=0;OAuthServiceAcctEmail=spfohl@stanford.edu;OAuthPvtKeyPath=/home/spfohl/.config/gcloud/application_default_credentials.json;Timeout=1000000\""
      ]
     },
     "metadata": {},
     "output_type": "display_data"
    }
   ],
   "source": [
    "connection_string"
   ]
  },
  {
   "cell_type": "code",
   "execution_count": 23,
   "metadata": {},
   "outputs": [],
   "source": [
    "connectionDetails <- createConnectionDetails(\n",
    "    dbms='bigquery', \n",
    "    connectionString=connection_string,\n",
    "    user=\"\",\n",
    "    password=\"\", \n",
    "    pathToDriver=args['path_to_driver']\n",
    ")"
   ]
  },
  {
   "cell_type": "code",
   "execution_count": 24,
   "metadata": {},
   "outputs": [
    {
     "name": "stdout",
     "output_type": "stream",
     "text": [
      "Connecting using BigQuery driver\n"
     ]
    }
   ],
   "source": [
    "conn <- connect(connectionDetails)"
   ]
  },
  {
   "cell_type": "code",
   "execution_count": 16,
   "metadata": {},
   "outputs": [],
   "source": [
    "query <- render(\"\n",
    "SELECT *\n",
    "FROM @rs_schema.@cohort t1\n",
    "INNER JOIN @schema.condition_occurrence as t2\n",
    "    ON t1.person_id = t2.person_id\n",
    "LIMIT 10\n",
    "\", schema=args['schema'], rs_schema=args['rs_schema'], cohort=args['cohort']\n",
    ")"
   ]
  },
  {
   "cell_type": "code",
   "execution_count": null,
   "metadata": {},
   "outputs": [],
   "source": [
    "query <- render(\"\n",
    "SELECT *\n",
    "FROM @rs_schema.@cohort t1\n",
    "INNER JOIN @schema.condition_occurrence as t2\n",
    "    ON t1.person_id = t2.person_id\n",
    "LIMIT 10\n",
    "\", schema=args['schema'], rs_schema=args['rs_schema'], cohort=args['cohort']\n",
    ")"
   ]
  },
  {
   "cell_type": "code",
   "execution_count": 59,
   "metadata": {},
   "outputs": [],
   "source": [
    "query <- render(\n",
    "    \"\n",
    "    SELECT t1.person_id, condition_concept_id\n",
    "    FROM @rs_schema.@cohort t1\n",
    "    INNER JOIN @schema.condition_occurrence t2\n",
    "        ON t1.person_id = t2.person_id\n",
    "    LIMIT 10\", \n",
    "    schema=args['schema'], rs_schema=args['rs_schema'], cohort=args['cohort']\n",
    ")"
   ]
  },
  {
   "cell_type": "code",
   "execution_count": 60,
   "metadata": {},
   "outputs": [
    {
     "data": {
      "text/html": [
       "<span style=white-space:pre-wrap>'\\nSELECT t1.person_id, condition_concept_id\\nFROM plp_cohort_tables.admission_rollup_20191214032155_wJDmh1 t1\\nINNER JOIN starr_omop_cdm5_deid_20191214032155_wJDmh1.condition_occurrence t2\\n    ON t1.person_id = t2.person_id\\nLIMIT 10\\n'</span>"
      ],
      "text/latex": [
       "'\\textbackslash{}nSELECT t1.person\\_id, condition\\_concept\\_id\\textbackslash{}nFROM plp\\_cohort\\_tables.admission\\_rollup\\_20191214032155\\_wJDmh1 t1\\textbackslash{}nINNER JOIN starr\\_omop\\_cdm5\\_deid\\_20191214032155\\_wJDmh1.condition\\_occurrence t2\\textbackslash{}n    ON t1.person\\_id = t2.person\\_id\\textbackslash{}nLIMIT 10\\textbackslash{}n'"
      ],
      "text/markdown": [
       "<span style=white-space:pre-wrap>'\\nSELECT t1.person_id, condition_concept_id\\nFROM plp_cohort_tables.admission_rollup_20191214032155_wJDmh1 t1\\nINNER JOIN starr_omop_cdm5_deid_20191214032155_wJDmh1.condition_occurrence t2\\n    ON t1.person_id = t2.person_id\\nLIMIT 10\\n'</span>"
      ],
      "text/plain": [
       "[1] \"\\nSELECT t1.person_id, condition_concept_id\\nFROM plp_cohort_tables.admission_rollup_20191214032155_wJDmh1 t1\\nINNER JOIN starr_omop_cdm5_deid_20191214032155_wJDmh1.condition_occurrence t2\\n    ON t1.person_id = t2.person_id\\nLIMIT 10\\n\""
      ]
     },
     "metadata": {},
     "output_type": "display_data"
    }
   ],
   "source": [
    "query"
   ]
  },
  {
   "cell_type": "code",
   "execution_count": 17,
   "metadata": {},
   "outputs": [
    {
     "ename": "ERROR",
     "evalue": "Error: Error executing SQL:\njava.sql.SQLException: [Simba][BigQueryJDBCDriver](100032) Error executing query job. Message: Duplicate column names in the result are not supported. Found duplicate(s): person_id\nAn error report has been created at  /home/spfohl/projects/prediction_utils/prediction_utils/extraction_utils/notebooks/errorReport.txt\n",
     "output_type": "error",
     "traceback": [
      "Error: Error executing SQL:\njava.sql.SQLException: [Simba][BigQueryJDBCDriver](100032) Error executing query job. Message: Duplicate column names in the result are not supported. Found duplicate(s): person_id\nAn error report has been created at  /home/spfohl/projects/prediction_utils/prediction_utils/extraction_utils/notebooks/errorReport.txt\nTraceback:\n",
      "1. querySql(conn, query)",
      "2. tryCatch({\n .     result <- lowLevelQuerySql(connection, sqlStatements[1])\n .     colnames(result) <- toupper(colnames(result))\n .     result <- convertFields(connection@dbms, result)\n .     if (snakeCaseToCamelCase) {\n .         colnames(result) <- SqlRender::snakeCaseToCamelCase(colnames(result))\n .     }\n .     return(result)\n . }, error = function(err) {\n .     .createErrorReport(connection@dbms, err$message, sql, errorReportFile)\n . })",
      "3. tryCatchList(expr, classes, parentenv, handlers)",
      "4. tryCatchOne(expr, names, parentenv, handlers[[1L]])",
      "5. value[[3L]](cond)",
      "6. .createErrorReport(connection@dbms, err$message, sql, errorReportFile)",
      "7. stop(paste(\"Error executing SQL:\", message, paste(\"An error report has been created at \", \n .     fileName), sep = \"\\n\"), call. = FALSE)"
     ]
    }
   ],
   "source": [
    "result <- querySql(conn, query)"
   ]
  },
  {
   "cell_type": "code",
   "execution_count": 62,
   "metadata": {},
   "outputs": [
    {
     "data": {
      "text/html": [
       "<table>\n",
       "<caption>A data.frame: 10 × 2</caption>\n",
       "<thead>\n",
       "\t<tr><th></th><th scope=col>PERSON_ID</th><th scope=col>CONDITION_CONCEPT_ID</th></tr>\n",
       "\t<tr><th></th><th scope=col>&lt;dbl&gt;</th><th scope=col>&lt;dbl&gt;</th></tr>\n",
       "</thead>\n",
       "<tbody>\n",
       "\t<tr><th scope=row>1</th><td>31959826</td><td>441830</td></tr>\n",
       "\t<tr><th scope=row>2</th><td>29955047</td><td>132853</td></tr>\n",
       "\t<tr><th scope=row>3</th><td>29955047</td><td>132853</td></tr>\n",
       "\t<tr><th scope=row>4</th><td>29955047</td><td>132853</td></tr>\n",
       "\t<tr><th scope=row>5</th><td>29955047</td><td>132853</td></tr>\n",
       "\t<tr><th scope=row>6</th><td>29955047</td><td>132853</td></tr>\n",
       "\t<tr><th scope=row>7</th><td>29955047</td><td>132853</td></tr>\n",
       "\t<tr><th scope=row>8</th><td>31067482</td><td>194092</td></tr>\n",
       "\t<tr><th scope=row>9</th><td>31405296</td><td>257011</td></tr>\n",
       "\t<tr><th scope=row>10</th><td>31405296</td><td>257011</td></tr>\n",
       "</tbody>\n",
       "</table>\n"
      ],
      "text/latex": [
       "A data.frame: 10 × 2\n",
       "\\begin{tabular}{r|ll}\n",
       "  & PERSON\\_ID & CONDITION\\_CONCEPT\\_ID\\\\\n",
       "  & <dbl> & <dbl>\\\\\n",
       "\\hline\n",
       "\t1 & 31959826 & 441830\\\\\n",
       "\t2 & 29955047 & 132853\\\\\n",
       "\t3 & 29955047 & 132853\\\\\n",
       "\t4 & 29955047 & 132853\\\\\n",
       "\t5 & 29955047 & 132853\\\\\n",
       "\t6 & 29955047 & 132853\\\\\n",
       "\t7 & 29955047 & 132853\\\\\n",
       "\t8 & 31067482 & 194092\\\\\n",
       "\t9 & 31405296 & 257011\\\\\n",
       "\t10 & 31405296 & 257011\\\\\n",
       "\\end{tabular}\n"
      ],
      "text/markdown": [
       "\n",
       "A data.frame: 10 × 2\n",
       "\n",
       "| <!--/--> | PERSON_ID &lt;dbl&gt; | CONDITION_CONCEPT_ID &lt;dbl&gt; |\n",
       "|---|---|---|\n",
       "| 1 | 31959826 | 441830 |\n",
       "| 2 | 29955047 | 132853 |\n",
       "| 3 | 29955047 | 132853 |\n",
       "| 4 | 29955047 | 132853 |\n",
       "| 5 | 29955047 | 132853 |\n",
       "| 6 | 29955047 | 132853 |\n",
       "| 7 | 29955047 | 132853 |\n",
       "| 8 | 31067482 | 194092 |\n",
       "| 9 | 31405296 | 257011 |\n",
       "| 10 | 31405296 | 257011 |\n",
       "\n"
      ],
      "text/plain": [
       "   PERSON_ID CONDITION_CONCEPT_ID\n",
       "1  31959826  441830              \n",
       "2  29955047  132853              \n",
       "3  29955047  132853              \n",
       "4  29955047  132853              \n",
       "5  29955047  132853              \n",
       "6  29955047  132853              \n",
       "7  29955047  132853              \n",
       "8  31067482  194092              \n",
       "9  31405296  257011              \n",
       "10 31405296  257011              "
      ]
     },
     "metadata": {},
     "output_type": "display_data"
    }
   ],
   "source": [
    "result"
   ]
  }
 ],
 "metadata": {
  "kernelspec": {
   "display_name": "R",
   "language": "R",
   "name": "ir"
  },
  "language_info": {
   "codemirror_mode": "r",
   "file_extension": ".r",
   "mimetype": "text/x-r-source",
   "name": "R",
   "pygments_lexer": "r",
   "version": "3.6.0"
  }
 },
 "nbformat": 4,
 "nbformat_minor": 2
}
