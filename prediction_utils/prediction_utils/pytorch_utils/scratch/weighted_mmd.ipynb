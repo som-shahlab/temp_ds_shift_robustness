{
 "cells": [
  {
   "cell_type": "code",
   "execution_count": 2,
   "metadata": {},
   "outputs": [],
   "source": [
    "import numpy as np\n",
    "import torch"
   ]
  },
  {
   "cell_type": "code",
   "execution_count": 159,
   "metadata": {},
   "outputs": [],
   "source": [
    "def compute_mmd(x, y, x_weights=None, y_weights=None):\n",
    "    \"\"\"\n",
    "    Compute an MMD\n",
    "    \"\"\"\n",
    "    x_kernel = compute_kernel(x, x)\n",
    "    y_kernel = compute_kernel(y, y)\n",
    "    xy_kernel = compute_kernel(x, y)\n",
    "    \n",
    "    if (x_weights is None) and (y_weights is None):\n",
    "        return x_kernel.mean() + y_kernel.mean() - 2 * xy_kernel.mean()\n",
    "    else:\n",
    "        if x_weights is None:\n",
    "            x_weights = torch.ones(x.shape[0])\n",
    "        if y_weights is None:\n",
    "            y_weights = torch.ones(y.shape[0])\n",
    "            \n",
    "        x_weights_tile = x_weights.unsqueeze(1) * x_weights.unsqueeze(0)\n",
    "        y_weights_tile = y_weights.unsqueeze(1) * y_weights.unsqueeze(0)\n",
    "        xy_weights_tile = x_weights.unsqueeze(1) * y_weights.unsqueeze(0)\n",
    "        \n",
    "        return (\n",
    "                (x_kernel * x_weights_tile).sum() / x_weights_tile.sum()\n",
    "                ) + \\\n",
    "            (\n",
    "                (y_kernel * y_weights_tile).sum() / y_weights_tile.sum()\n",
    "            ) - \\\n",
    "            (\n",
    "                2*(xy_kernel * xy_weights_tile).sum() / xy_weights_tile.sum()\n",
    "            )\n",
    "\n",
    "def compute_kernel(x, y, gamma=None):\n",
    "    \"\"\"\n",
    "    Gaussian RBF kernel for use in an MMD\n",
    "    \"\"\"\n",
    "    dim = x.size(1)\n",
    "    assert dim == y.size(1)\n",
    "    if gamma is None:\n",
    "        gamma = dim\n",
    "        \n",
    "    kernel_input = (x.unsqueeze(1) - y.unsqueeze(0)).pow(2).sum(2) # sum over features\n",
    "    return torch.exp(-gamma * kernel_input)  # (x_size, y_size)"
   ]
  },
  {
   "cell_type": "code",
   "execution_count": null,
   "metadata": {},
   "outputs": [],
   "source": [
    "# x[:2] = x[]"
   ]
  },
  {
   "cell_type": "code",
   "execution_count": 198,
   "metadata": {},
   "outputs": [
    {
     "name": "stdout",
     "output_type": "stream",
     "text": [
      "Standard MMD: 0.9683579053154063\n",
      "Resampled MMD: 1.0669778022588927\n",
      "Weighted MMD: 1.0696495423789159\n"
     ]
    }
   ],
   "source": [
    "batch_size = 256\n",
    "pivot_idx = batch_size // 4\n",
    "x = np.random.rand(batch_size)\n",
    "x1 = x[:pivot_idx] * 10 + 1\n",
    "x2 = x[pivot_idx:]\n",
    "\n",
    "# x1_weights = np.random.rand(x1.shape[0])\n",
    "# x2_weights = np.random.rand(x2.shape[0])\n",
    "x1_weights = np.abs(x1)*10\n",
    "x2_weights = np.abs(x2)*10\n",
    "\n",
    "x1_weights = x1_weights / x1_weights.sum()\n",
    "x2_weights = x2_weights / x2_weights.sum()\n",
    "\n",
    "x1_weights_torch = torch.from_numpy(x1_weights)\n",
    "x2_weights_torch = torch.from_numpy(x2_weights)\n",
    "\n",
    "x1_torch = torch.from_numpy(x1).unsqueeze(1)\n",
    "x2_torch = torch.from_numpy(x2).unsqueeze(1)\n",
    "\n",
    "# Resampled data\n",
    "n_resamples=10\n",
    "result = []\n",
    "for i in range(n_resamples):\n",
    "    x1_resample = torch.from_numpy(np.random.choice(x1, size=len(x), p=x1_weights)).unsqueeze(1)\n",
    "    x2_resample = torch.from_numpy(np.random.choice(x2, size=len(x), p=x2_weights)).unsqueeze(1)\n",
    "    result.append(compute_mmd(x1_resample, x2_resample))\n",
    "\n",
    "assert x1.shape[0] + x2.shape[0] == x.shape[0]\n",
    "print('Standard MMD: {}'.format(compute_mmd(x1_torch, x2_torch)))\n",
    "# print('Standard MMD2: {}'.format(compute_mmd(x1, x2, x_weights=torch.ones(x1.shape[0]), y_weights=torch.ones(x2.shape[0]))))\n",
    "print('Resampled MMD: {}'.format(np.array(result).mean()))\n",
    "print('Weighted MMD: {}'.format(compute_mmd(x1_torch, x2_torch, x_weights=x1_weights_torch, y_weights=x2_weights_torch)))\n"
   ]
  }
 ],
 "metadata": {
  "kernelspec": {
   "display_name": "prediction_utils [conda env:anaconda-prediction_utils]",
   "language": "python",
   "name": "conda-env-anaconda-prediction_utils-prediction_utils"
  },
  "language_info": {
   "codemirror_mode": {
    "name": "ipython",
    "version": 3
   },
   "file_extension": ".py",
   "mimetype": "text/x-python",
   "name": "python",
   "nbconvert_exporter": "python",
   "pygments_lexer": "ipython3",
   "version": "3.7.6"
  }
 },
 "nbformat": 4,
 "nbformat_minor": 4
}
