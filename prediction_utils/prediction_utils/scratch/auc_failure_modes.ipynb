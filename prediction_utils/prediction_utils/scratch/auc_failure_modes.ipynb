{
 "cells": [
  {
   "cell_type": "code",
   "execution_count": 1,
   "id": "analyzed-significance",
   "metadata": {},
   "outputs": [],
   "source": [
    "import numpy as np\n",
    "import pandas as pd\n",
    "import matplotlib.pyplot as plt\n",
    "import seaborn as sns\n",
    "from prediction_utils.pytorch_utils.metrics import StandardEvaluator, xauc\n",
    "from sklearn.metrics import roc_auc_score\n"
   ]
  },
  {
   "cell_type": "code",
   "execution_count": 12,
   "id": "spoken-metallic",
   "metadata": {},
   "outputs": [
    {
     "name": "stdout",
     "output_type": "stream",
     "text": [
      "0.75\n"
     ]
    }
   ],
   "source": [
    "sigma = 0.01\n",
    "\n",
    "na0 = 1000\n",
    "na1 = 100\n",
    "nb0 = 1000\n",
    "nb1 = 100\n",
    "\n",
    "pa0 = 0.1\n",
    "pa1 = 0.2\n",
    "pb0 = 0.3\n",
    "pb1 = 0.4\n",
    "\n",
    "pred_probs_a0 = pa0*np.ones(na0) + (np.random.randn(na0) * sigma)\n",
    "pred_probs_a1 = pa1*np.ones(na1) + (np.random.randn(na1) * sigma)\n",
    "pred_probs_b0 = pb0*np.ones(nb0) + (np.random.randn(nb0) * sigma)\n",
    "pred_probs_b1 = pb1*np.ones(nb1) + (np.random.randn(nb1) * sigma)\n",
    "\n",
    "pya = na1/(na1+na0)\n",
    "pyb = nb1/(nb1+nb0)\n",
    "\n",
    "pay1 = na1 / (na1 + nb1)\n",
    "pay0 = na0 / (na0 + nb0)\n",
    "\n",
    "expected_auc = 1 - (pay1 * (1 - pay0))\n",
    "print(expected_auc)"
   ]
  },
  {
   "cell_type": "code",
   "execution_count": 13,
   "id": "moral-viewer",
   "metadata": {},
   "outputs": [],
   "source": [
    "df = pd.concat(\n",
    "    [\n",
    "        pd.DataFrame(\n",
    "            {\n",
    "                'pred_probs': pred_probs_a0,\n",
    "                'labels': 0,\n",
    "                'group': 'a',\n",
    "            }\n",
    "        ),\n",
    "        pd.DataFrame(\n",
    "            {\n",
    "                'pred_probs': pred_probs_a1,\n",
    "                'labels': 1,\n",
    "                'group': 'a',\n",
    "            }\n",
    "        ),\n",
    "        pd.DataFrame(\n",
    "            {\n",
    "                'pred_probs': pred_probs_b0,\n",
    "                'labels': 0,\n",
    "                'group': 'b',\n",
    "            }\n",
    "        ),\n",
    "        pd.DataFrame(\n",
    "            {\n",
    "                'pred_probs': pred_probs_b1,\n",
    "                'labels': 1,\n",
    "                'group': 'b',\n",
    "            }\n",
    "        )\n",
    "    ]\n",
    ")"
   ]
  },
  {
   "cell_type": "code",
   "execution_count": 14,
   "id": "blind-perfume",
   "metadata": {},
   "outputs": [
    {
     "name": "stdout",
     "output_type": "stream",
     "text": [
      "0.75\n",
      "0.9545454545454545\n",
      "0.5454545454545454\n"
     ]
    }
   ],
   "source": [
    "print(roc_auc_score(df.labels, df.pred_probs))\n",
    "pooled_xauc_a = pya * xauc(df.labels, df.pred_probs, df.group, 'a', the_label=1) + (1-pya)*xauc(df.labels, df.pred_probs, df.group, 'a', the_label=0)\n",
    "pooled_xauc_b = pyb * xauc(df.labels, df.pred_probs, df.group, 'b', the_label=1) + (1-pyb)*xauc(df.labels, df.pred_probs, df.group, 'b', the_label=0)\n",
    "print(pooled_xauc_a)\n",
    "print(pooled_xauc_b)"
   ]
  },
  {
   "cell_type": "code",
   "execution_count": 15,
   "id": "worldwide-presentation",
   "metadata": {
    "scrolled": true
   },
   "outputs": [
    {
     "data": {
      "text/html": [
       "<div>\n",
       "<style scoped>\n",
       "    .dataframe tbody tr th:only-of-type {\n",
       "        vertical-align: middle;\n",
       "    }\n",
       "\n",
       "    .dataframe tbody tr th {\n",
       "        vertical-align: top;\n",
       "    }\n",
       "\n",
       "    .dataframe thead th {\n",
       "        text-align: right;\n",
       "    }\n",
       "</style>\n",
       "<table border=\"1\" class=\"dataframe\">\n",
       "  <thead>\n",
       "    <tr style=\"text-align: right;\">\n",
       "      <th></th>\n",
       "      <th>metric</th>\n",
       "      <th>group</th>\n",
       "      <th>performance</th>\n",
       "    </tr>\n",
       "  </thead>\n",
       "  <tbody>\n",
       "    <tr>\n",
       "      <th>0</th>\n",
       "      <td>auc</td>\n",
       "      <td>a</td>\n",
       "      <td>1.00</td>\n",
       "    </tr>\n",
       "    <tr>\n",
       "      <th>1</th>\n",
       "      <td>auc</td>\n",
       "      <td>b</td>\n",
       "      <td>1.00</td>\n",
       "    </tr>\n",
       "    <tr>\n",
       "      <th>0</th>\n",
       "      <td>auc</td>\n",
       "      <td>overall</td>\n",
       "      <td>0.75</td>\n",
       "    </tr>\n",
       "  </tbody>\n",
       "</table>\n",
       "</div>"
      ],
      "text/plain": [
       "  metric    group  performance\n",
       "0    auc        a         1.00\n",
       "1    auc        b         1.00\n",
       "0    auc  overall         0.75"
      ]
     },
     "execution_count": 15,
     "metadata": {},
     "output_type": "execute_result"
    }
   ],
   "source": [
    "evaluator = StandardEvaluator(metrics=['auc'])\n",
    "evaluator.get_result_df(df, group_var_name='group')"
   ]
  }
 ],
 "metadata": {
  "kernelspec": {
   "display_name": "Python [conda env:py_env] *",
   "language": "python",
   "name": "conda-env-py_env-py"
  },
  "language_info": {
   "codemirror_mode": {
    "name": "ipython",
    "version": 3
   },
   "file_extension": ".py",
   "mimetype": "text/x-python",
   "name": "python",
   "nbconvert_exporter": "python",
   "pygments_lexer": "ipython3",
   "version": "3.7.9"
  }
 },
 "nbformat": 4,
 "nbformat_minor": 5
}
