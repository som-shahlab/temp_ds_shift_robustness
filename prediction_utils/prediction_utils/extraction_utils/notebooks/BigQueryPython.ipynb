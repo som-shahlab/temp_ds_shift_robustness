{
 "cells": [
  {
   "cell_type": "markdown",
   "metadata": {},
   "source": [
    "#### Accessing BigQuery from python\n",
    "\n",
    "* Options\n",
    "    1. Google BigQuery client library\n",
    "    2. pandas-gbq\n",
    "    3. sqlalchemy and pybigquery\n",
    "    \n",
    "The Google client library is the most feature rich, but is more verbose. \n",
    "    * It has faster table writes, since it serializes the data to parquet, whereas the other librares serialize to CSV. \n",
    "    * It can write directly to cloud storage"
   ]
  },
  {
   "cell_type": "code",
   "execution_count": 13,
   "metadata": {},
   "outputs": [],
   "source": [
    "import google.auth\n",
    "from google.cloud import bigquery\n",
    "from google.cloud import bigquery_storage_v1beta1"
   ]
  },
  {
   "cell_type": "code",
   "execution_count": 9,
   "metadata": {},
   "outputs": [],
   "source": [
    "import time"
   ]
  },
  {
   "cell_type": "code",
   "execution_count": 10,
   "metadata": {},
   "outputs": [],
   "source": [
    "## Install pybigquery with pip first\n",
    "import sqlalchemy as sq"
   ]
  },
  {
   "cell_type": "code",
   "execution_count": 11,
   "metadata": {},
   "outputs": [],
   "source": [
    "import pandas as pd"
   ]
  },
  {
   "cell_type": "code",
   "execution_count": 12,
   "metadata": {},
   "outputs": [],
   "source": [
    "import os\n",
    "os.environ['GOOGLE_APPLICATION_CREDENTIALS'] = '/home/spfohl/.config/gcloud/application_default_credentials.json' \n",
    "os.environ['GCLOUD_PROJECT'] = 'som-nero-phi-nigam-starr' "
   ]
  },
  {
   "cell_type": "code",
   "execution_count": 46,
   "metadata": {},
   "outputs": [],
   "source": [
    "query = '''\n",
    "SELECT * \n",
    "FROM starr_omop_cdm5_deid_20200404.person\n",
    "LIMIT 10000\n",
    "'''"
   ]
  },
  {
   "cell_type": "code",
   "execution_count": 47,
   "metadata": {},
   "outputs": [
    {
     "name": "stderr",
     "output_type": "stream",
     "text": [
      "/share/pi/nigam/spfohl/conda_envs/py_env/lib/python3.7/site-packages/google/auth/_default.py:69: UserWarning: Your application has authenticated using end user credentials from Google Cloud SDK. We recommend that most server applications use service accounts instead. If your application continues to use end user credentials from Cloud SDK, you might receive a \"quota exceeded\" or \"API not enabled\" error. For more information about service accounts, see https://cloud.google.com/docs/authentication/\n",
      "  warnings.warn(_CLOUD_SDK_CREDENTIALS_WARNING)\n"
     ]
    }
   ],
   "source": [
    "# Testing sqlalchemy\n",
    "engine = sq.create_engine(\n",
    "    'bigquery://', \n",
    ")"
   ]
  },
  {
   "cell_type": "code",
   "execution_count": 48,
   "metadata": {},
   "outputs": [
    {
     "name": "stdout",
     "output_type": "stream",
     "text": [
      "CPU times: user 33.9 ms, sys: 6.4 ms, total: 40.3 ms\n",
      "Wall time: 1.32 s\n"
     ]
    }
   ],
   "source": [
    "%%time\n",
    "df = pd.read_sql(query, engine, chunksize=1000)"
   ]
  },
  {
   "cell_type": "code",
   "execution_count": 49,
   "metadata": {},
   "outputs": [
    {
     "name": "stdout",
     "output_type": "stream",
     "text": [
      "0.9370927810668945\n",
      "(1000, 21)\n",
      "0.053906917572021484\n",
      "(1000, 21)\n",
      "0.05286836624145508\n",
      "(1000, 21)\n",
      "0.05265927314758301\n",
      "(1000, 21)\n",
      "0.05297541618347168\n",
      "(1000, 21)\n",
      "1.0779664516448975\n",
      "(1000, 21)\n",
      "0.053075551986694336\n",
      "(1000, 21)\n",
      "0.05483222007751465\n",
      "(1000, 21)\n",
      "0.052811622619628906\n",
      "(1000, 21)\n",
      "0.05293583869934082\n",
      "(1000, 21)\n",
      "CPU times: user 672 ms, sys: 10.2 ms, total: 682 ms\n",
      "Wall time: 2.45 s\n"
     ]
    }
   ],
   "source": [
    "%%time\n",
    "t0 = time.time()\n",
    "for temp in df:\n",
    "    print(time.time() - t0)\n",
    "    print(temp.shape)\n",
    "    t0 = time.time()"
   ]
  },
  {
   "cell_type": "code",
   "execution_count": 7,
   "metadata": {},
   "outputs": [
    {
     "data": {
      "text/html": [
       "<div>\n",
       "<style scoped>\n",
       "    .dataframe tbody tr th:only-of-type {\n",
       "        vertical-align: middle;\n",
       "    }\n",
       "\n",
       "    .dataframe tbody tr th {\n",
       "        vertical-align: top;\n",
       "    }\n",
       "\n",
       "    .dataframe thead th {\n",
       "        text-align: right;\n",
       "    }\n",
       "</style>\n",
       "<table border=\"1\" class=\"dataframe\">\n",
       "  <thead>\n",
       "    <tr style=\"text-align: right;\">\n",
       "      <th></th>\n",
       "      <th>measurement_id</th>\n",
       "      <th>person_id</th>\n",
       "      <th>measurement_concept_id</th>\n",
       "      <th>measurement_DATE</th>\n",
       "      <th>measurement_DATETIME</th>\n",
       "      <th>measurement_time</th>\n",
       "      <th>measurement_type_concept_id</th>\n",
       "      <th>operator_concept_id</th>\n",
       "      <th>value_as_number</th>\n",
       "      <th>value_as_concept_id</th>\n",
       "      <th>...</th>\n",
       "      <th>provider_id</th>\n",
       "      <th>visit_occurrence_id</th>\n",
       "      <th>visit_detail_id</th>\n",
       "      <th>measurement_source_value</th>\n",
       "      <th>measurement_source_concept_id</th>\n",
       "      <th>unit_source_value</th>\n",
       "      <th>value_source_value</th>\n",
       "      <th>trace_id</th>\n",
       "      <th>unit_id</th>\n",
       "      <th>load_table_id</th>\n",
       "    </tr>\n",
       "  </thead>\n",
       "  <tbody>\n",
       "    <tr>\n",
       "      <th>0</th>\n",
       "      <td>932321812</td>\n",
       "      <td>30172122</td>\n",
       "      <td>3016879</td>\n",
       "      <td>2019-05-28</td>\n",
       "      <td>2019-05-28 13:05:00</td>\n",
       "      <td>None</td>\n",
       "      <td>44818702</td>\n",
       "      <td>0</td>\n",
       "      <td>NaN</td>\n",
       "      <td>0</td>\n",
       "      <td>...</td>\n",
       "      <td>995861.0</td>\n",
       "      <td>145864253.0</td>\n",
       "      <td>None</td>\n",
       "      <td>3397-7</td>\n",
       "      <td>3016879</td>\n",
       "      <td>mAbs</td>\n",
       "      <td>Negative</td>\n",
       "      <td>None</td>\n",
       "      <td>measurement.meas.rule.2.shc_order_results</td>\n",
       "      <td>shc_order_results</td>\n",
       "    </tr>\n",
       "    <tr>\n",
       "      <th>1</th>\n",
       "      <td>156771269</td>\n",
       "      <td>32541687</td>\n",
       "      <td>3010156</td>\n",
       "      <td>2006-08-07</td>\n",
       "      <td>2006-08-07 11:58:00</td>\n",
       "      <td>None</td>\n",
       "      <td>44818702</td>\n",
       "      <td>0</td>\n",
       "      <td>2.6</td>\n",
       "      <td>0</td>\n",
       "      <td>...</td>\n",
       "      <td>982549.0</td>\n",
       "      <td>35862132.0</td>\n",
       "      <td>None</td>\n",
       "      <td>30522-7</td>\n",
       "      <td>3010156</td>\n",
       "      <td>mg/L</td>\n",
       "      <td>2.6</td>\n",
       "      <td>None</td>\n",
       "      <td>measurement.meas.rule.2.shc_order_results</td>\n",
       "      <td>shc_order_results</td>\n",
       "    </tr>\n",
       "    <tr>\n",
       "      <th>2</th>\n",
       "      <td>598921449</td>\n",
       "      <td>31895156</td>\n",
       "      <td>3001526</td>\n",
       "      <td>2016-02-28</td>\n",
       "      <td>2016-02-28 19:14:00</td>\n",
       "      <td>None</td>\n",
       "      <td>44818702</td>\n",
       "      <td>0</td>\n",
       "      <td>NaN</td>\n",
       "      <td>0</td>\n",
       "      <td>...</td>\n",
       "      <td>1030703.0</td>\n",
       "      <td>90734259.0</td>\n",
       "      <td>None</td>\n",
       "      <td>3299-5</td>\n",
       "      <td>3001526</td>\n",
       "      <td>ug/mL</td>\n",
       "      <td>&lt;2.0</td>\n",
       "      <td>None</td>\n",
       "      <td>measurement.meas.rule.2.shc_order_results</td>\n",
       "      <td>shc_order_results</td>\n",
       "    </tr>\n",
       "    <tr>\n",
       "      <th>3</th>\n",
       "      <td>454653557</td>\n",
       "      <td>31179254</td>\n",
       "      <td>3011960</td>\n",
       "      <td>2014-05-16</td>\n",
       "      <td>2014-05-16 09:24:00</td>\n",
       "      <td>None</td>\n",
       "      <td>44818702</td>\n",
       "      <td>0</td>\n",
       "      <td>5.4</td>\n",
       "      <td>0</td>\n",
       "      <td>...</td>\n",
       "      <td>944841.0</td>\n",
       "      <td>68976691.0</td>\n",
       "      <td>None</td>\n",
       "      <td>30934-4</td>\n",
       "      <td>3011960</td>\n",
       "      <td>pg/mL</td>\n",
       "      <td>5.4</td>\n",
       "      <td>None</td>\n",
       "      <td>measurement.meas.rule.2.shc_order_results</td>\n",
       "      <td>shc_order_results</td>\n",
       "    </tr>\n",
       "    <tr>\n",
       "      <th>4</th>\n",
       "      <td>978020308</td>\n",
       "      <td>32254888</td>\n",
       "      <td>40758990</td>\n",
       "      <td>2019-10-26</td>\n",
       "      <td>2019-10-26 14:13:00</td>\n",
       "      <td>None</td>\n",
       "      <td>44818702</td>\n",
       "      <td>0</td>\n",
       "      <td>28360.0</td>\n",
       "      <td>0</td>\n",
       "      <td>...</td>\n",
       "      <td>1024562.0</td>\n",
       "      <td>154978545.0</td>\n",
       "      <td>None</td>\n",
       "      <td>55869-2</td>\n",
       "      <td>40758990</td>\n",
       "      <td>mIU/mL</td>\n",
       "      <td>28360</td>\n",
       "      <td>None</td>\n",
       "      <td>measurement.meas.rule.2.shc_order_results</td>\n",
       "      <td>shc_order_results</td>\n",
       "    </tr>\n",
       "  </tbody>\n",
       "</table>\n",
       "<p>5 rows × 23 columns</p>\n",
       "</div>"
      ],
      "text/plain": [
       "   measurement_id  person_id  measurement_concept_id measurement_DATE  \\\n",
       "0       932321812   30172122                 3016879       2019-05-28   \n",
       "1       156771269   32541687                 3010156       2006-08-07   \n",
       "2       598921449   31895156                 3001526       2016-02-28   \n",
       "3       454653557   31179254                 3011960       2014-05-16   \n",
       "4       978020308   32254888                40758990       2019-10-26   \n",
       "\n",
       "  measurement_DATETIME measurement_time  measurement_type_concept_id  \\\n",
       "0  2019-05-28 13:05:00             None                     44818702   \n",
       "1  2006-08-07 11:58:00             None                     44818702   \n",
       "2  2016-02-28 19:14:00             None                     44818702   \n",
       "3  2014-05-16 09:24:00             None                     44818702   \n",
       "4  2019-10-26 14:13:00             None                     44818702   \n",
       "\n",
       "   operator_concept_id  value_as_number  value_as_concept_id  ...  \\\n",
       "0                    0              NaN                    0  ...   \n",
       "1                    0              2.6                    0  ...   \n",
       "2                    0              NaN                    0  ...   \n",
       "3                    0              5.4                    0  ...   \n",
       "4                    0          28360.0                    0  ...   \n",
       "\n",
       "   provider_id  visit_occurrence_id  visit_detail_id  \\\n",
       "0     995861.0          145864253.0             None   \n",
       "1     982549.0           35862132.0             None   \n",
       "2    1030703.0           90734259.0             None   \n",
       "3     944841.0           68976691.0             None   \n",
       "4    1024562.0          154978545.0             None   \n",
       "\n",
       "   measurement_source_value  measurement_source_concept_id unit_source_value  \\\n",
       "0                    3397-7                        3016879              mAbs   \n",
       "1                   30522-7                        3010156              mg/L   \n",
       "2                    3299-5                        3001526             ug/mL   \n",
       "3                   30934-4                        3011960             pg/mL   \n",
       "4                   55869-2                       40758990            mIU/mL   \n",
       "\n",
       "  value_source_value  trace_id                                    unit_id  \\\n",
       "0           Negative      None  measurement.meas.rule.2.shc_order_results   \n",
       "1                2.6      None  measurement.meas.rule.2.shc_order_results   \n",
       "2               <2.0      None  measurement.meas.rule.2.shc_order_results   \n",
       "3                5.4      None  measurement.meas.rule.2.shc_order_results   \n",
       "4              28360      None  measurement.meas.rule.2.shc_order_results   \n",
       "\n",
       "       load_table_id  \n",
       "0  shc_order_results  \n",
       "1  shc_order_results  \n",
       "2  shc_order_results  \n",
       "3  shc_order_results  \n",
       "4  shc_order_results  \n",
       "\n",
       "[5 rows x 23 columns]"
      ]
     },
     "execution_count": 7,
     "metadata": {},
     "output_type": "execute_result"
    }
   ],
   "source": [
    "df.head()"
   ]
  },
  {
   "cell_type": "code",
   "execution_count": 8,
   "metadata": {},
   "outputs": [
    {
     "name": "stderr",
     "output_type": "stream",
     "text": [
      "/share/pi/nigam/spfohl/conda_envs/py_env/lib/python3.7/site-packages/google_auth-1.6.3-py3.7.egg/google/auth/_default.py:66: UserWarning: Your application has authenticated using end user credentials from Google Cloud SDK. We recommend that most server applications use service accounts instead. If your application continues to use end user credentials from Cloud SDK, you might receive a \"quota exceeded\" or \"API not enabled\" error. For more information about service accounts, see https://cloud.google.com/docs/authentication/\n",
      "  warnings.warn(_CLOUD_SDK_CREDENTIALS_WARNING)\n",
      "/share/pi/nigam/spfohl/conda_envs/py_env/lib/python3.7/site-packages/pandas_gbq/gbq.py:555: UserWarning: A progress bar was requested, but there was an error loading the tqdm library. Please install tqdm to use the progress bar functionality.\n",
      "  progress_bar_type=progress_bar_type,\n"
     ]
    },
    {
     "name": "stdout",
     "output_type": "stream",
     "text": [
      "CPU times: user 9.25 s, sys: 791 ms, total: 10 s\n",
      "Wall time: 23.5 s\n"
     ]
    }
   ],
   "source": [
    "%%time\n",
    "## Testing pandas-gbq\n",
    "df= pd.read_gbq(query, dialect='standard')"
   ]
  },
  {
   "cell_type": "code",
   "execution_count": 18,
   "metadata": {},
   "outputs": [
    {
     "ename": "TypeError",
     "evalue": "read_gbq() got an unexpected keyword argument 'chunksize'",
     "output_type": "error",
     "traceback": [
      "\u001b[0;31m---------------------------------------------------------------------------\u001b[0m",
      "\u001b[0;31mTypeError\u001b[0m                                 Traceback (most recent call last)",
      "\u001b[0;32m<timed exec>\u001b[0m in \u001b[0;36m<module>\u001b[0;34m\u001b[0m\n",
      "\u001b[0;31mTypeError\u001b[0m: read_gbq() got an unexpected keyword argument 'chunksize'"
     ]
    }
   ],
   "source": [
    "%%time\n",
    "## Testing pandas-gbq with storage API\n",
    "df = pd.read_gbq(query, dialect='standard', use_bqstorage_api=True)"
   ]
  },
  {
   "cell_type": "code",
   "execution_count": 17,
   "metadata": {},
   "outputs": [],
   "source": [
    "## Testing the client library\n",
    "# https://cloud.google.com/bigquery/docs/bigquery-storage-python-pandas\n",
    "# https://cloud.google.com/bigquery/docs/paging-results\n",
    "\n",
    "credentials, your_project_id = google.auth.default(\n",
    "    scopes=[\"https://www.googleapis.com/auth/cloud-platform\"]\n",
    ")\n",
    "\n",
    "# Make clients.\n",
    "bqclient = bigquery.Client(\n",
    "    credentials=credentials,\n",
    "    project=your_project_id,\n",
    ")\n",
    "\n",
    "bqstorageclient = bigquery_storage_v1beta1.BigQueryStorageClient(\n",
    "    credentials=credentials\n",
    ")\n"
   ]
  },
  {
   "cell_type": "code",
   "execution_count": 114,
   "metadata": {},
   "outputs": [],
   "source": [
    "# %%time\n",
    "query = '''\n",
    "    SELECT person_id, gender_concept_id\n",
    "    FROM starr_omop_cdm5_deid_20200404.person\n",
    "'''"
   ]
  },
  {
   "cell_type": "code",
   "execution_count": 102,
   "metadata": {},
   "outputs": [
    {
     "name": "stdout",
     "output_type": "stream",
     "text": [
      "(100000, 2)\n",
      "(100000, 2)\n",
      "(100000, 2)\n",
      "(100000, 2)\n",
      "(100000, 2)\n",
      "(100000, 2)\n",
      "(100000, 2)\n",
      "(100000, 2)\n",
      "(100000, 2)\n",
      "(100000, 2)\n",
      "CPU times: user 7.08 s, sys: 886 ms, total: 7.97 s\n",
      "Wall time: 27.4 s\n"
     ]
    }
   ],
   "source": [
    "%%time\n",
    "\n",
    "result = (\n",
    "    bqclient\n",
    "    .query(query)\n",
    "    .result(page_size=100000)\n",
    "    .to_dataframe_iterable()\n",
    ")\n",
    "\n",
    "result_dict = {}\n",
    "for i, temp in enumerate(result):\n",
    "    result_dict[i] = temp\n",
    "    print(temp.shape)"
   ]
  },
  {
   "cell_type": "code",
   "execution_count": 118,
   "metadata": {},
   "outputs": [
    {
     "name": "stdout",
     "output_type": "stream",
     "text": [
      "Num rows: 1024\n",
      "Num iterations: 2850\n",
      "CPU times: user 8.14 s, sys: 578 ms, total: 8.72 s\n",
      "Wall time: 8.39 s\n"
     ]
    }
   ],
   "source": [
    "%%time\n",
    "result = (\n",
    "    bqclient\n",
    "    .query(query)\n",
    "    .result(page_size=1024)\n",
    "    .to_dataframe_iterable(bqstorage_client=bqstorageclient)\n",
    ")\n",
    "\n",
    "combine_every = 100\n",
    "result_dict = {}\n",
    "result_list = []\n",
    "for i, temp in enumerate(result):\n",
    "    if i == 0:\n",
    "        print('Num rows: {}'.format(temp.shape[0]))\n",
    "    result_dict[i] = temp\n",
    "    if i % combine_every == 0:\n",
    "        result_list.append(pd.concat(result_dict))\n",
    "        result_dict = {}\n",
    "if len(list(result_dict.keys())) > 0:\n",
    "    result_list.append(pd.concat(result_dict))\n",
    "result_df = pd.concat(result_list)\n",
    "print('Num iterations: {}'.format(i))"
   ]
  },
  {
   "cell_type": "code",
   "execution_count": 122,
   "metadata": {},
   "outputs": [
    {
     "data": {
      "text/html": [
       "<div>\n",
       "<style scoped>\n",
       "    .dataframe tbody tr th:only-of-type {\n",
       "        vertical-align: middle;\n",
       "    }\n",
       "\n",
       "    .dataframe tbody tr th {\n",
       "        vertical-align: top;\n",
       "    }\n",
       "\n",
       "    .dataframe thead th {\n",
       "        text-align: right;\n",
       "    }\n",
       "</style>\n",
       "<table border=\"1\" class=\"dataframe\">\n",
       "  <thead>\n",
       "    <tr style=\"text-align: right;\">\n",
       "      <th></th>\n",
       "      <th></th>\n",
       "      <th>person_id</th>\n",
       "      <th>gender_concept_id</th>\n",
       "    </tr>\n",
       "  </thead>\n",
       "  <tbody>\n",
       "    <tr>\n",
       "      <th rowspan=\"5\" valign=\"top\">0</th>\n",
       "      <th>0</th>\n",
       "      <td>30360313</td>\n",
       "      <td>0</td>\n",
       "    </tr>\n",
       "    <tr>\n",
       "      <th>1</th>\n",
       "      <td>30359483</td>\n",
       "      <td>8507</td>\n",
       "    </tr>\n",
       "    <tr>\n",
       "      <th>2</th>\n",
       "      <td>30762518</td>\n",
       "      <td>8532</td>\n",
       "    </tr>\n",
       "    <tr>\n",
       "      <th>3</th>\n",
       "      <td>30629316</td>\n",
       "      <td>0</td>\n",
       "    </tr>\n",
       "    <tr>\n",
       "      <th>4</th>\n",
       "      <td>32507595</td>\n",
       "      <td>8507</td>\n",
       "    </tr>\n",
       "  </tbody>\n",
       "</table>\n",
       "</div>"
      ],
      "text/plain": [
       "     person_id  gender_concept_id\n",
       "0 0   30360313                  0\n",
       "  1   30359483               8507\n",
       "  2   30762518               8532\n",
       "  3   30629316                  0\n",
       "  4   32507595               8507"
      ]
     },
     "execution_count": 122,
     "metadata": {},
     "output_type": "execute_result"
    }
   ],
   "source": [
    "result_df.head()"
   ]
  },
  {
   "cell_type": "code",
   "execution_count": 119,
   "metadata": {},
   "outputs": [
    {
     "data": {
      "text/plain": [
       "(2919074, 2)"
      ]
     },
     "execution_count": 119,
     "metadata": {},
     "output_type": "execute_result"
    }
   ],
   "source": [
    "result_df.shape"
   ]
  },
  {
   "cell_type": "code",
   "execution_count": 116,
   "metadata": {},
   "outputs": [
    {
     "data": {
      "text/plain": [
       "2918400"
      ]
     },
     "execution_count": 116,
     "metadata": {},
     "output_type": "execute_result"
    }
   ],
   "source": [
    "1024 * 2850"
   ]
  },
  {
   "cell_type": "code",
   "execution_count": 104,
   "metadata": {},
   "outputs": [],
   "source": [
    "temp = pd.concat(result_dict)"
   ]
  },
  {
   "cell_type": "code",
   "execution_count": 111,
   "metadata": {},
   "outputs": [
    {
     "data": {
      "text/plain": [
       "1000448"
      ]
     },
     "execution_count": 111,
     "metadata": {},
     "output_type": "execute_result"
    }
   ],
   "source": [
    "result_dict[0].shape[0] * len(result_dict.keys())"
   ]
  },
  {
   "cell_type": "code",
   "execution_count": 106,
   "metadata": {},
   "outputs": [
    {
     "data": {
      "text/plain": [
       "(1000000, 2)"
      ]
     },
     "execution_count": 106,
     "metadata": {},
     "output_type": "execute_result"
    }
   ],
   "source": [
    "temp.shape"
   ]
  },
  {
   "cell_type": "code",
   "execution_count": 105,
   "metadata": {},
   "outputs": [
    {
     "data": {
      "text/plain": [
       "dict_keys([0, 1, 2, 3, 4, 5, 6, 7, 8, 9, 10, 11, 12, 13, 14, 15, 16, 17, 18, 19, 20, 21, 22, 23, 24, 25, 26, 27, 28, 29, 30, 31, 32, 33, 34, 35, 36, 37, 38, 39, 40, 41, 42, 43, 44, 45, 46, 47, 48, 49, 50, 51, 52, 53, 54, 55, 56, 57, 58, 59, 60, 61, 62, 63, 64, 65, 66, 67, 68, 69, 70, 71, 72, 73, 74, 75, 76, 77, 78, 79, 80, 81, 82, 83, 84, 85, 86, 87, 88, 89, 90, 91, 92, 93, 94, 95, 96, 97, 98, 99, 100, 101, 102, 103, 104, 105, 106, 107, 108, 109, 110, 111, 112, 113, 114, 115, 116, 117, 118, 119, 120, 121, 122, 123, 124, 125, 126, 127, 128, 129, 130, 131, 132, 133, 134, 135, 136, 137, 138, 139, 140, 141, 142, 143, 144, 145, 146, 147, 148, 149, 150, 151, 152, 153, 154, 155, 156, 157, 158, 159, 160, 161, 162, 163, 164, 165, 166, 167, 168, 169, 170, 171, 172, 173, 174, 175, 176, 177, 178, 179, 180, 181, 182, 183, 184, 185, 186, 187, 188, 189, 190, 191, 192, 193, 194, 195, 196, 197, 198, 199, 200, 201, 202, 203, 204, 205, 206, 207, 208, 209, 210, 211, 212, 213, 214, 215, 216, 217, 218, 219, 220, 221, 222, 223, 224, 225, 226, 227, 228, 229, 230, 231, 232, 233, 234, 235, 236, 237, 238, 239, 240, 241, 242, 243, 244, 245, 246, 247, 248, 249, 250, 251, 252, 253, 254, 255, 256, 257, 258, 259, 260, 261, 262, 263, 264, 265, 266, 267, 268, 269, 270, 271, 272, 273, 274, 275, 276, 277, 278, 279, 280, 281, 282, 283, 284, 285, 286, 287, 288, 289, 290, 291, 292, 293, 294, 295, 296, 297, 298, 299, 300, 301, 302, 303, 304, 305, 306, 307, 308, 309, 310, 311, 312, 313, 314, 315, 316, 317, 318, 319, 320, 321, 322, 323, 324, 325, 326, 327, 328, 329, 330, 331, 332, 333, 334, 335, 336, 337, 338, 339, 340, 341, 342, 343, 344, 345, 346, 347, 348, 349, 350, 351, 352, 353, 354, 355, 356, 357, 358, 359, 360, 361, 362, 363, 364, 365, 366, 367, 368, 369, 370, 371, 372, 373, 374, 375, 376, 377, 378, 379, 380, 381, 382, 383, 384, 385, 386, 387, 388, 389, 390, 391, 392, 393, 394, 395, 396, 397, 398, 399, 400, 401, 402, 403, 404, 405, 406, 407, 408, 409, 410, 411, 412, 413, 414, 415, 416, 417, 418, 419, 420, 421, 422, 423, 424, 425, 426, 427, 428, 429, 430, 431, 432, 433, 434, 435, 436, 437, 438, 439, 440, 441, 442, 443, 444, 445, 446, 447, 448, 449, 450, 451, 452, 453, 454, 455, 456, 457, 458, 459, 460, 461, 462, 463, 464, 465, 466, 467, 468, 469, 470, 471, 472, 473, 474, 475, 476, 477, 478, 479, 480, 481, 482, 483, 484, 485, 486, 487, 488, 489, 490, 491, 492, 493, 494, 495, 496, 497, 498, 499, 500, 501, 502, 503, 504, 505, 506, 507, 508, 509, 510, 511, 512, 513, 514, 515, 516, 517, 518, 519, 520, 521, 522, 523, 524, 525, 526, 527, 528, 529, 530, 531, 532, 533, 534, 535, 536, 537, 538, 539, 540, 541, 542, 543, 544, 545, 546, 547, 548, 549, 550, 551, 552, 553, 554, 555, 556, 557, 558, 559, 560, 561, 562, 563, 564, 565, 566, 567, 568, 569, 570, 571, 572, 573, 574, 575, 576, 577, 578, 579, 580, 581, 582, 583, 584, 585, 586, 587, 588, 589, 590, 591, 592, 593, 594, 595, 596, 597, 598, 599, 600, 601, 602, 603, 604, 605, 606, 607, 608, 609, 610, 611, 612, 613, 614, 615, 616, 617, 618, 619, 620, 621, 622, 623, 624, 625, 626, 627, 628, 629, 630, 631, 632, 633, 634, 635, 636, 637, 638, 639, 640, 641, 642, 643, 644, 645, 646, 647, 648, 649, 650, 651, 652, 653, 654, 655, 656, 657, 658, 659, 660, 661, 662, 663, 664, 665, 666, 667, 668, 669, 670, 671, 672, 673, 674, 675, 676, 677, 678, 679, 680, 681, 682, 683, 684, 685, 686, 687, 688, 689, 690, 691, 692, 693, 694, 695, 696, 697, 698, 699, 700, 701, 702, 703, 704, 705, 706, 707, 708, 709, 710, 711, 712, 713, 714, 715, 716, 717, 718, 719, 720, 721, 722, 723, 724, 725, 726, 727, 728, 729, 730, 731, 732, 733, 734, 735, 736, 737, 738, 739, 740, 741, 742, 743, 744, 745, 746, 747, 748, 749, 750, 751, 752, 753, 754, 755, 756, 757, 758, 759, 760, 761, 762, 763, 764, 765, 766, 767, 768, 769, 770, 771, 772, 773, 774, 775, 776, 777, 778, 779, 780, 781, 782, 783, 784, 785, 786, 787, 788, 789, 790, 791, 792, 793, 794, 795, 796, 797, 798, 799, 800, 801, 802, 803, 804, 805, 806, 807, 808, 809, 810, 811, 812, 813, 814, 815, 816, 817, 818, 819, 820, 821, 822, 823, 824, 825, 826, 827, 828, 829, 830, 831, 832, 833, 834, 835, 836, 837, 838, 839, 840, 841, 842, 843, 844, 845, 846, 847, 848, 849, 850, 851, 852, 853, 854, 855, 856, 857, 858, 859, 860, 861, 862, 863, 864, 865, 866, 867, 868, 869, 870, 871, 872, 873, 874, 875, 876, 877, 878, 879, 880, 881, 882, 883, 884, 885, 886, 887, 888, 889, 890, 891, 892, 893, 894, 895, 896, 897, 898, 899, 900, 901, 902, 903, 904, 905, 906, 907, 908, 909, 910, 911, 912, 913, 914, 915, 916, 917, 918, 919, 920, 921, 922, 923, 924, 925, 926, 927, 928, 929, 930, 931, 932, 933, 934, 935, 936, 937, 938, 939, 940, 941, 942, 943, 944, 945, 946, 947, 948, 949, 950, 951, 952, 953, 954, 955, 956, 957, 958, 959, 960, 961, 962, 963, 964, 965, 966, 967, 968, 969, 970, 971, 972, 973, 974, 975, 976])"
      ]
     },
     "execution_count": 105,
     "metadata": {},
     "output_type": "execute_result"
    }
   ],
   "source": [
    "result_dict.keys()"
   ]
  }
 ],
 "metadata": {
  "kernelspec": {
   "display_name": "Python [conda env:py_env]",
   "language": "python",
   "name": "conda-env-py_env-py"
  },
  "language_info": {
   "codemirror_mode": {
    "name": "ipython",
    "version": 3
   },
   "file_extension": ".py",
   "mimetype": "text/x-python",
   "name": "python",
   "nbconvert_exporter": "python",
   "pygments_lexer": "ipython3",
   "version": "3.7.5"
  }
 },
 "nbformat": 4,
 "nbformat_minor": 2
}
