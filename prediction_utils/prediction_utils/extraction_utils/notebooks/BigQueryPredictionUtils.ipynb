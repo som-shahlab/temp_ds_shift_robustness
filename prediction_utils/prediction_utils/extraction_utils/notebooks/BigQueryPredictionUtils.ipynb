{
 "cells": [
  {
   "cell_type": "code",
   "execution_count": 1,
   "metadata": {},
   "outputs": [],
   "source": [
    "from prediction_utils.extraction_utils.database import BQDatabase"
   ]
  },
  {
   "cell_type": "code",
   "execution_count": 2,
   "metadata": {},
   "outputs": [
    {
     "name": "stderr",
     "output_type": "stream",
     "text": [
      "/share/pi/nigam/spfohl/conda_envs/py_env/lib/python3.7/site-packages/google/auth/_default.py:69: UserWarning: Your application has authenticated using end user credentials from Google Cloud SDK. We recommend that most server applications use service accounts instead. If your application continues to use end user credentials from Cloud SDK, you might receive a \"quota exceeded\" or \"API not enabled\" error. For more information about service accounts, see https://cloud.google.com/docs/authentication/\n",
      "  warnings.warn(_CLOUD_SDK_CREDENTIALS_WARNING)\n"
     ]
    }
   ],
   "source": [
    "db = BQDatabase()"
   ]
  },
  {
   "cell_type": "code",
   "execution_count": 13,
   "metadata": {},
   "outputs": [
    {
     "name": "stderr",
     "output_type": "stream",
     "text": [
      "Downloading: 100%|██████████| 10/10 [00:00<00:00, 13.65rows/s]\n"
     ]
    }
   ],
   "source": [
    "df = db.read_sql_query('SELECT visit_start_datetime from starr_omop_cdm5_deid_20200404.visit_occurrence LIMIT 10', progress_bar_type=None)"
   ]
  },
  {
   "cell_type": "code",
   "execution_count": 5,
   "metadata": {},
   "outputs": [
    {
     "name": "stderr",
     "output_type": "stream",
     "text": [
      "1it [00:05,  5.11s/it]\n"
     ]
    }
   ],
   "source": [
    "# db.to_sql(\n",
    "#     df,\n",
    "#     destination_table='plp_cohort_tables.temp',\n",
    "# )"
   ]
  },
  {
   "cell_type": "code",
   "execution_count": 10,
   "metadata": {},
   "outputs": [],
   "source": [
    "param_dict = {\n",
    "    'database': 'som-nero-phi-nigam-starr',\n",
    "    'rs_schema': 'plp_cohort_tables',\n",
    "    'cohort_name': 'admission_rollup_20200404'\n",
    "}\n",
    "param_dict['cohort_name_sampled'] = '{}_sampled'.format(param_dict['cohort_name'])"
   ]
  },
  {
   "cell_type": "code",
   "execution_count": 11,
   "metadata": {},
   "outputs": [
    {
     "data": {
      "text/plain": [
       "'\\n    CREATE OR REPLACE TABLE som-nero-phi-nigam-starr.plp_cohort_tables.admission_rollup_20200404_sampled AS\\n    SELECT * EXCEPT (rnd, pos)\\n    FROM (\\n        SELECT *, ROW_NUMBER() OVER(PARTITION BY person_id ORDER BY rnd) AS pos\\n        FROM (\\n            SELECT \\n                *,\\n                FARM_FINGERPRINT(CONCAT(CAST(person_id AS STRING), CAST(admit_date AS STRING), CAST(discharge_date AS STRING))) as rnd\\n            FROM plp_cohort_tables.admission_rollup_20200404\\n        )\\n    )\\n    WHERE pos = 1\\n'"
      ]
     },
     "execution_count": 11,
     "metadata": {},
     "output_type": "execute_result"
    }
   ],
   "source": [
    "sample_query = \"\"\"\n",
    "    CREATE OR REPLACE TABLE {database}.{rs_schema}.{cohort_name_sampled} AS\n",
    "    SELECT * EXCEPT (rnd, pos)\n",
    "    FROM (\n",
    "        SELECT *, ROW_NUMBER() OVER(PARTITION BY person_id ORDER BY rnd) AS pos\n",
    "        FROM (\n",
    "            SELECT \n",
    "                *,\n",
    "                FARM_FINGERPRINT(CONCAT(CAST(person_id AS STRING), CAST(admit_date AS STRING), CAST(discharge_date AS STRING))) as rnd\n",
    "            FROM {rs_schema}.{cohort_name}\n",
    "        )\n",
    "    )\n",
    "    WHERE pos = 1\n",
    "\"\"\".format_map(param_dict)"
   ]
  },
  {
   "cell_type": "code",
   "execution_count": 12,
   "metadata": {},
   "outputs": [],
   "source": [
    "db.execute_sql(sample_query)"
   ]
  }
 ],
 "metadata": {
  "kernelspec": {
   "display_name": "Python [conda env:py_env]",
   "language": "python",
   "name": "conda-env-py_env-py"
  },
  "language_info": {
   "codemirror_mode": {
    "name": "ipython",
    "version": 3
   },
   "file_extension": ".py",
   "mimetype": "text/x-python",
   "name": "python",
   "nbconvert_exporter": "python",
   "pygments_lexer": "ipython3",
   "version": "3.7.5"
  }
 },
 "nbformat": 4,
 "nbformat_minor": 2
}
