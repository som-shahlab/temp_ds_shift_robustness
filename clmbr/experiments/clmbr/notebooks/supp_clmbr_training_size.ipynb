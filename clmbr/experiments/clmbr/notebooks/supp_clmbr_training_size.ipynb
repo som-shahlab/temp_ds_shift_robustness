{
 "cells": [
  {
   "cell_type": "code",
   "execution_count": 1,
   "id": "815e69fb-bf34-4915-aa96-acec058ef5c3",
   "metadata": {},
   "outputs": [],
   "source": [
    "import os\n",
    "import numpy as np\n",
    "\n",
    "from ehr_ml.clmbr.utils import read_config, read_info\n",
    "\n",
    "from ehr_ml.extension.timeline import (\n",
    "    ObservationWithValue,\n",
    "    TimelineReader,\n",
    "    Patient,\n",
    "    PatientDay,\n",
    ")"
   ]
  },
  {
   "cell_type": "code",
   "execution_count": 2,
   "id": "83b334e6-7167-4578-8cb7-f9398a037526",
   "metadata": {},
   "outputs": [],
   "source": [
    "info_dir = \"/local-scratch/nigam/projects/lguo/temp_ds_shift_robustness/clmbr/experiments/clmbr/clmbr_artifacts/infos/2009_2012\"\n",
    "info = read_info(os.path.join(info_dir,'info.json'))\n",
    "\n",
    "source_file = \"/local-scratch/nigam/projects/lguo/temp_ds_shift_robustness/clmbr/experiments/clmbr/data/extracts/20210723/extract.db\"\n",
    "timelines = TimelineReader(source_file)"
   ]
  },
  {
   "cell_type": "markdown",
   "id": "f32817ef-7556-483d-b5f8-9a4e4222ccbc",
   "metadata": {},
   "source": [
    "#### Get train data size (num patients, days, codes)"
   ]
  },
  {
   "cell_type": "code",
   "execution_count": 3,
   "id": "0f4ec01e-4ac7-41aa-8180-cbbcd3bb69ef",
   "metadata": {},
   "outputs": [
    {
     "name": "stdout",
     "output_type": "stream",
     "text": [
      "\n",
      " Training data size: \n",
      " 29026 total patients\n",
      " 1135485 total days\n",
      " 39.11958244332667 avg days per patient\n",
      " 41525970 total codes\n",
      " 26.01209891558566 average codes per day \n",
      "\n"
     ]
    }
   ],
   "source": [
    "total_train_patients = len(info['train_patient_ids_with_length'])\n",
    "total_train_days = np.sum([x[1] for x in info['train_patient_ids_with_length']])\n",
    "avg_train_days = total_train_days/total_train_patients\n",
    "\n",
    "total_train_codes, avg_train_codes = 0, 0\n",
    "\n",
    "for pat_id in [x[0] for x in info['train_patient_ids_with_length']]:\n",
    "    patient = timelines.get_patient(pat_id)\n",
    "    num_days = len(patient.days)\n",
    "    num_codes = 0\n",
    "    for day in patient.days:\n",
    "        total_train_codes+=len(day.observations)\n",
    "        num_codes+=len(day.observations)\n",
    "        \n",
    "    avg_train_codes += num_codes/num_days\n",
    "\n",
    "avg_train_codes/=total_train_patients\n",
    "    \n",
    "\n",
    "print(f\"\\n \\\n",
    "Training data size: \\n \\\n",
    "{total_train_patients} total patients\\n \\\n",
    "{total_train_days} total days\\n \\\n",
    "{avg_train_days} avg days per patient\\n \\\n",
    "{total_train_codes} total codes\\n \\\n",
    "{avg_train_codes} average codes per day \\n\\\n",
    "\")"
   ]
  },
  {
   "cell_type": "code",
   "execution_count": null,
   "id": "5f578046-4e76-4179-9952-48b6a85e986a",
   "metadata": {},
   "outputs": [],
   "source": []
  }
 ],
 "metadata": {
  "kernelspec": {
   "display_name": "Python 3 (ipykernel)",
   "language": "python",
   "name": "python3"
  },
  "language_info": {
   "codemirror_mode": {
    "name": "ipython",
    "version": 3
   },
   "file_extension": ".py",
   "mimetype": "text/x-python",
   "name": "python",
   "nbconvert_exporter": "python",
   "pygments_lexer": "ipython3",
   "version": "3.8.5"
  }
 },
 "nbformat": 4,
 "nbformat_minor": 5
}
