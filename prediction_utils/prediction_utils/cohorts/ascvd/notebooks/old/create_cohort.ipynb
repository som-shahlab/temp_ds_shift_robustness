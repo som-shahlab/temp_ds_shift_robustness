{
 "cells": [
  {
   "cell_type": "code",
   "execution_count": 1,
   "metadata": {},
   "outputs": [],
   "source": [
    "from prediction_utils.cohorts.ascvd.starr.cohort import ASCVDCohort"
   ]
  },
  {
   "cell_type": "code",
   "execution_count": 2,
   "metadata": {},
   "outputs": [],
   "source": [
    "config_dict = {\n",
    "    'dataset_project': 'som-rit-phi-starr-prod',\n",
    "    'dataset': 'starr_omop_cdm5_deid_1pcent_latest',\n",
    "#     'dataset': 'starr_omop_cdm5_deid_latest',\n",
    "    'rs_dataset_project': 'som-nero-phi-nigam-starr',\n",
    "    'rs_dataset': 'temp_dataset',\n",
    "    'years_history_required': 1,\n",
    "    'max_observation_period_end_date': '2020-12-31',\n",
    "    'min_age_in_years': 18,\n",
    "}"
   ]
  },
  {
   "cell_type": "code",
   "execution_count": 3,
   "metadata": {},
   "outputs": [],
   "source": [
    "label_config = {\n",
    "    'ascvd_1yr': {\n",
    "        'max_index_date': \"2018-12-31\",\n",
    "        'event_followup_days': 365\n",
    "    },\n",
    "    'ascvd_5yr': {\n",
    "        'max_index_date': '2014-12-31',\n",
    "        'event_followup_days': 5*365.25\n",
    "    },\n",
    "    'ascvd_10yr': {\n",
    "        'max_index_date': '2009-12-31',\n",
    "        'event_followup_days': 10*365.25\n",
    "    }\n",
    "}"
   ]
  },
  {
   "cell_type": "code",
   "execution_count": 4,
   "metadata": {},
   "outputs": [],
   "source": [
    "cohort_label = 'ascvd_1yr'\n",
    "config_dict = {**config_dict, **label_config[cohort_label]}"
   ]
  },
  {
   "cell_type": "code",
   "execution_count": 5,
   "metadata": {},
   "outputs": [
    {
     "name": "stderr",
     "output_type": "stream",
     "text": [
      "/share/pi/nigam/envs/anaconda/envs/prediction_utils/lib/python3.7/site-packages/google/auth/_default.py:69: UserWarning: Your application has authenticated using end user credentials from Google Cloud SDK. We recommend that most server applications use service accounts instead. If your application continues to use end user credentials from Cloud SDK, you might receive a \"quota exceeded\" or \"API not enabled\" error. For more information about service accounts, see https://cloud.google.com/docs/authentication/\n",
      "  warnings.warn(_CLOUD_SDK_CREDENTIALS_WARNING)\n"
     ]
    }
   ],
   "source": [
    "cohort=ASCVDCohort(**config_dict)"
   ]
  },
  {
   "cell_type": "code",
   "execution_count": 6,
   "metadata": {},
   "outputs": [
    {
     "data": {
      "text/plain": [
       "'\\n            WITH visits AS (\\n                SELECT t1.person_id, visit_occurrence_id, visit_concept_id, \\n                    birth_datetime, visit_start_date, observation_period_start_date, observation_period_end_date,\\n                    CAST(DATE_DIFF(CAST(visit_start_date AS DATE), CAST(birth_datetime AS DATE), DAY) AS FLOAT64) / 365.25 as age_in_years,\\n                    CAST(DATE_DIFF(CAST(visit_start_date AS DATE), CAST(observation_period_start_date AS DATE), DAY) AS FLOAT64) / 365.25 as years_since_start,\\n                    CAST(DATE_DIFF(CAST(observation_period_end_date AS DATE), CAST(visit_start_date AS DATE), DAY) AS FLOAT64) / 365.25 as years_until_end\\n                FROM som-rit-phi-starr-prod.starr_omop_cdm5_deid_1pcent_latest.visit_occurrence t1\\n                INNER JOIN som-rit-phi-starr-prod.starr_omop_cdm5_deid_1pcent_latest.person as t2\\n                    ON t1.person_id = t2.person_id\\n                INNER JOIN som-rit-phi-starr-prod.starr_omop_cdm5_deid_1pcent_latest.observation_period as t3\\n                    ON t1.person_id = t3.person_id\\n                WHERE \\n                    visit_concept_id = 9202\\n            )\\n            SELECT * \\n            FROM visits\\n            WHERE years_since_start >= 1\\n                AND observation_period_end_date <= \"2020-12-31\"\\n                AND age_in_years >= 18\\n                AND visit_start_date <= \"2018-12-31\"\\n            '"
      ]
     },
     "execution_count": 6,
     "metadata": {},
     "output_type": "execute_result"
    }
   ],
   "source": [
    "cohort.get_base_query()"
   ]
  },
  {
   "cell_type": "code",
   "execution_count": 7,
   "metadata": {},
   "outputs": [],
   "source": [
    "# base_query_df = cohort.db.read_sql_query(cohort.get_base_query())"
   ]
  },
  {
   "cell_type": "code",
   "execution_count": 8,
   "metadata": {},
   "outputs": [],
   "source": [
    "cohort.db.execute_sql_to_destination_table(\n",
    "    cohort.get_transform_query_sampled(),\n",
    "    \"{rs_dataset_project}.{rs_dataset}.temp_sampled\".format_map(\n",
    "        cohort.config_dict\n",
    "    )\n",
    ")"
   ]
  }
 ],
 "metadata": {
  "kernelspec": {
   "display_name": "Python 3",
   "language": "python",
   "name": "python3"
  },
  "language_info": {
   "codemirror_mode": {
    "name": "ipython",
    "version": 3
   },
   "file_extension": ".py",
   "mimetype": "text/x-python",
   "name": "python",
   "nbconvert_exporter": "python",
   "pygments_lexer": "ipython3",
   "version": "3.7.6"
  }
 },
 "nbformat": 4,
 "nbformat_minor": 2
}
